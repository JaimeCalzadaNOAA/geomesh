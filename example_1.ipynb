{
 "cells": [
  {
   "cell_type": "markdown",
   "metadata": {},
   "source": [
    "# Example #1\n",
    "---\n",
    "### Building a basic mesh using a single DEM tile.\n",
    "---"
   ]
  },
  {
   "cell_type": "markdown",
   "metadata": {},
   "source": [
    "### Step 1: Bootstrap the relevant data to the workspace"
   ]
  },
  {
   "cell_type": "markdown",
   "metadata": {},
   "source": [
    "##### Create data directory where we will stage all the relevant data."
   ]
  },
  {
   "cell_type": "code",
   "execution_count": 1,
   "metadata": {},
   "outputs": [],
   "source": [
    "import pathlib\n",
    "data_dir = pathlib.Path('data')\n",
    "data_dir.mkdir(exist_ok=True)"
   ]
  },
  {
   "cell_type": "markdown",
   "metadata": {},
   "source": [
    "##### Bootstrap the DEM tile to be meshed. \n",
    "For this example, we're using a publicly available DEM from REF[Taylor 2010]."
   ]
  },
  {
   "cell_type": "code",
   "execution_count": 8,
   "metadata": {},
   "outputs": [],
   "source": [
    "PR_dem = data_dir / 'PR_1s.tif'\n",
    "\n",
    "if not PR_dem.exists():\n",
    "    \n",
    "    PR_tarfile = data_dir / 'PR_1s.tar.gz'\n",
    "\n",
    "    import urllib.request\n",
    "\n",
    "    with urllib.request.urlopen(\"https://www.dropbox.com/s/0duc0tnp43rjgrt/PR_1s.tar.gz?dl=1\") as u:\n",
    "        with open(PR_tarfile, \"wb\") as f :\n",
    "            f.write(u.read())\n",
    "        \n",
    "    import tarfile\n",
    "    \n",
    "    with tarfile.open(f'{PR_tarfile}', \"r:gz\") as so:\n",
    "        so.extractall(path=data_dir)\n",
    "        \n",
    "    PR_tarfile.unlink()"
   ]
  },
  {
   "cell_type": "markdown",
   "metadata": {},
   "source": [
    "### Step 2: Create a \"geom\" object to represent the target mesh outer and inner boundaries."
   ]
  },
  {
   "cell_type": "code",
   "execution_count": 9,
   "metadata": {},
   "outputs": [
    {
     "ename": "ModuleNotFoundError",
     "evalue": "No module named 'geomesh'",
     "output_type": "error",
     "traceback": [
      "\u001b[0;31m---------------------------------------------------------------------------\u001b[0m",
      "\u001b[0;31mModuleNotFoundError\u001b[0m                       Traceback (most recent call last)",
      "\u001b[0;32m<ipython-input-9-a039ccbeb61c>\u001b[0m in \u001b[0;36m<module>\u001b[0;34m\u001b[0m\n\u001b[0;32m----> 1\u001b[0;31m \u001b[0;32mfrom\u001b[0m \u001b[0mgeomesh\u001b[0m \u001b[0;32mimport\u001b[0m \u001b[0mGeom\u001b[0m\u001b[0;34m\u001b[0m\u001b[0;34m\u001b[0m\u001b[0m\n\u001b[0m",
      "\u001b[0;31mModuleNotFoundError\u001b[0m: No module named 'geomesh'"
     ]
    }
   ],
   "source": [
    "from geomesh import Geom"
   ]
  }
 ],
 "metadata": {
  "kernelspec": {
   "display_name": "Python 3",
   "language": "python",
   "name": "python3"
  },
  "language_info": {
   "codemirror_mode": {
    "name": "ipython",
    "version": 3
   },
   "file_extension": ".py",
   "mimetype": "text/x-python",
   "name": "python",
   "nbconvert_exporter": "python",
   "pygments_lexer": "ipython3",
   "version": "3.9.1"
  }
 },
 "nbformat": 4,
 "nbformat_minor": 4
}
